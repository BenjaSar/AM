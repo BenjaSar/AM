{
 "cells": [
  {
   "cell_type": "code",
   "execution_count": 1,
   "metadata": {},
   "outputs": [],
   "source": [
    "import numpy as np"
   ]
  },
  {
   "cell_type": "code",
   "execution_count": 2,
   "metadata": {},
   "outputs": [
    {
     "data": {
      "text/plain": [
       "matrix([[ 0.1 , -0.5 ],\n",
       "        [-0.3 , -0.9 ],\n",
       "        [ 0.8 ,  0.02]])"
      ]
     },
     "execution_count": 2,
     "metadata": {},
     "output_type": "execute_result"
    }
   ],
   "source": [
    "w_1 = np.matrix('0.1 -0.5; -0.3 -0.9; 0.8 0.02')\n",
    "w_1"
   ]
  },
  {
   "cell_type": "code",
   "execution_count": 3,
   "metadata": {},
   "outputs": [
    {
     "data": {
      "text/plain": [
       "array([-0.4,  0.2, -0.5])"
      ]
     },
     "execution_count": 3,
     "metadata": {},
     "output_type": "execute_result"
    }
   ],
   "source": [
    "w_2 = np.array([-0.4, 0.2, -0.5])\n",
    "w_2"
   ]
  },
  {
   "cell_type": "code",
   "execution_count": 4,
   "metadata": {},
   "outputs": [
    {
     "data": {
      "text/plain": [
       "array([[0.1],\n",
       "       [0.5],\n",
       "       [0.8]])"
      ]
     },
     "execution_count": 4,
     "metadata": {},
     "output_type": "execute_result"
    }
   ],
   "source": [
    "b_1 = np.array([[0.1, 0.5, 0.8 ]]).T\n",
    "b_1"
   ]
  },
  {
   "cell_type": "code",
   "execution_count": 5,
   "metadata": {},
   "outputs": [
    {
     "data": {
      "text/plain": [
       "0.7"
      ]
     },
     "execution_count": 5,
     "metadata": {},
     "output_type": "execute_result"
    }
   ],
   "source": [
    "b_2 = 0.7\n",
    "b_2"
   ]
  },
  {
   "cell_type": "code",
   "execution_count": 6,
   "metadata": {},
   "outputs": [
    {
     "data": {
      "text/plain": [
       "array([[ 1.8],\n",
       "       [-3.4]])"
      ]
     },
     "execution_count": 6,
     "metadata": {},
     "output_type": "execute_result"
    }
   ],
   "source": [
    "x = np.array([[1.8, -3.4]]).T\n",
    "x\n"
   ]
  },
  {
   "cell_type": "code",
   "execution_count": 7,
   "metadata": {},
   "outputs": [
    {
     "data": {
      "text/plain": [
       "matrix([[1.98 ],\n",
       "        [3.02 ],\n",
       "        [2.172]])"
      ]
     },
     "execution_count": 7,
     "metadata": {},
     "output_type": "execute_result"
    }
   ],
   "source": [
    "#Calculamos z = (w.x + b)\n",
    "z_1 = np.dot(w_1,x)+b_1\n",
    "z_1"
   ]
  },
  {
   "cell_type": "code",
   "execution_count": 8,
   "metadata": {},
   "outputs": [
    {
     "data": {
      "text/plain": [
       "matrix([[0.87868116],\n",
       "        [0.95346953],\n",
       "        [0.89770677]])"
      ]
     },
     "execution_count": 8,
     "metadata": {},
     "output_type": "execute_result"
    }
   ],
   "source": [
    "#Calculamos y1 = sigma(z)\n",
    "y1 = 1/(1+np.exp(-z_1))\n",
    "y1"
   ]
  },
  {
   "cell_type": "code",
   "execution_count": 9,
   "metadata": {},
   "outputs": [
    {
     "data": {
      "text/plain": [
       "matrix([[ 5.59198124],\n",
       "        [18.62871802],\n",
       "        [ 7.07223392]])"
      ]
     },
     "execution_count": 9,
     "metadata": {},
     "output_type": "execute_result"
    }
   ],
   "source": [
    "#Calculamos g'(z) = (exp(z)/[1+exp(-z)]^2)\n",
    "a = 1+np.exp(-z_1)\n",
    "g_derivada = np.exp(z_1)/np.power(a,2)\n",
    "g_derivada"
   ]
  },
  {
   "cell_type": "code",
   "execution_count": 10,
   "metadata": {},
   "outputs": [
    {
     "data": {
      "text/plain": [
       "matrix([[-4.12131884],\n",
       "        [-4.04653047],\n",
       "        [-4.10229323]])"
      ]
     },
     "execution_count": 10,
     "metadata": {},
     "output_type": "execute_result"
    }
   ],
   "source": [
    "#Calculamos dY = dJ/dy_hat\n",
    "dY_1 = y1-5\n",
    "dY_1"
   ]
  },
  {
   "attachments": {},
   "cell_type": "markdown",
   "metadata": {},
   "source": [
    "<h4>Cálculo dJ/dW1 - dJ/db1</ha>"
   ]
  },
  {
   "cell_type": "markdown",
   "metadata": {},
   "source": [
    "<h4></h4>"
   ]
  },
  {
   "cell_type": "code",
   "execution_count": 11,
   "metadata": {},
   "outputs": [
    {
     "name": "stdout",
     "output_type": "stream",
     "text": [
      "La derivada de J respecto a w1 es:\n",
      " [[ -41.48340771   78.3575479 ]\n",
      " [-135.68701532  256.29769561]\n",
      " [ -52.22227917   98.64208287]]\n"
     ]
    }
   ],
   "source": [
    "#Calculamos dJ/dW1 = (y1-5).g'(z).x_t\n",
    "dJ_dW1 = np.multiply((dY_1), g_derivada)@x.T\n",
    "print(f'La derivada de J respecto a w1 es:\\n', dJ_dW1)"
   ]
  },
  {
   "cell_type": "code",
   "execution_count": 12,
   "metadata": {},
   "outputs": [
    {
     "name": "stdout",
     "output_type": "stream",
     "text": [
      "La derivada de J respecto a b1 es:\n",
      " [[-23.04633762]\n",
      " [-75.38167518]\n",
      " [-29.01237731]]\n"
     ]
    }
   ],
   "source": [
    "#Calculamos dJ_db1 = dY.g'(z)\n",
    "dJ_db1 = np.multiply(dY_1, g_derivada)\n",
    "print(f'La derivada de J respecto a b1 es:\\n', dJ_db1)\n"
   ]
  },
  {
   "attachments": {},
   "cell_type": "markdown",
   "metadata": {},
   "source": [
    "<h4>Cálculo dJ/dW2 - dJ/b2<h4>"
   ]
  },
  {
   "cell_type": "code",
   "execution_count": 13,
   "metadata": {},
   "outputs": [
    {
     "data": {
      "text/plain": [
       "matrix([[0.09036805]])"
      ]
     },
     "execution_count": 13,
     "metadata": {},
     "output_type": "execute_result"
    }
   ],
   "source": [
    "#Calculamos z_2 = (w.y1 + b)\n",
    "z_2 = (w_2*y1)+b_2\n",
    "z_2"
   ]
  },
  {
   "cell_type": "code",
   "execution_count": 14,
   "metadata": {},
   "outputs": [
    {
     "data": {
      "text/plain": [
       "matrix([[0.52257665]])"
      ]
     },
     "execution_count": 14,
     "metadata": {},
     "output_type": "execute_result"
    }
   ],
   "source": [
    "#Calculamos y2 = sigma(z)\n",
    "y2 = 1/(1+np.exp(-z_2))\n",
    "y2"
   ]
  },
  {
   "cell_type": "code",
   "execution_count": 15,
   "metadata": {},
   "outputs": [
    {
     "data": {
      "text/plain": [
       "matrix([[0.29891407]])"
      ]
     },
     "execution_count": 15,
     "metadata": {},
     "output_type": "execute_result"
    }
   ],
   "source": [
    "#Calculamos g'(z) = (exp(z)/[1+exp(-z)]^2)\n",
    "a2 = 1+np.exp(-z_2)\n",
    "g2_derivada = np.exp(z_2)/np.power(a2,2)\n",
    "g2_derivada"
   ]
  },
  {
   "cell_type": "code",
   "execution_count": 21,
   "metadata": {},
   "outputs": [
    {
     "data": {
      "text/plain": [
       "matrix([[-4.47742335]])"
      ]
     },
     "execution_count": 21,
     "metadata": {},
     "output_type": "execute_result"
    }
   ],
   "source": [
    "#Calculamos dY2 = dJ/dy_hat\n",
    "dY_2 = y2-5\n",
    "dY_2"
   ]
  },
  {
   "cell_type": "code",
   "execution_count": 17,
   "metadata": {},
   "outputs": [
    {
     "name": "stdout",
     "output_type": "stream",
     "text": [
      "La derivada de J respecto a w2 es:\n",
      " [[-1.17599595 -1.27609007 -1.20145916]]\n"
     ]
    }
   ],
   "source": [
    "#Calculamos dJ/dW2 = dY_2.g'(z).x_t\n",
    "dJ_dW2 = np.multiply((dY_2), g2_derivada)@y1.T\n",
    "print(f'La derivada de J respecto a w2 es:\\n', dJ_dW2)"
   ]
  },
  {
   "cell_type": "code",
   "execution_count": 18,
   "metadata": {},
   "outputs": [
    {
     "name": "stdout",
     "output_type": "stream",
     "text": [
      "La derivada de J respecto a b1 es:\n",
      " [[-23.04633762]\n",
      " [-75.38167518]\n",
      " [-29.01237731]]\n"
     ]
    }
   ],
   "source": [
    "#Calculamos dJ_db2 = dY_2.g'(z). \n",
    "#np.multiply permite aplicar producto de Hadamard\n",
    "dJ_db2 = np.multiply(dY_2, g2_derivada)\n",
    "print(f'La derivada de J respecto a b1 es:\\n', dJ_db1)"
   ]
  }
 ],
 "metadata": {
  "kernelspec": {
   "display_name": "Python 3",
   "language": "python",
   "name": "python3"
  },
  "language_info": {
   "codemirror_mode": {
    "name": "ipython",
    "version": 3
   },
   "file_extension": ".py",
   "mimetype": "text/x-python",
   "name": "python",
   "nbconvert_exporter": "python",
   "pygments_lexer": "ipython3",
   "version": "3.10.6"
  },
  "orig_nbformat": 4
 },
 "nbformat": 4,
 "nbformat_minor": 2
}
